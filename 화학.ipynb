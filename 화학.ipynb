{
 "cells": [
  {
   "cell_type": "code",
   "execution_count": 9,
   "metadata": {},
   "outputs": [],
   "source": [
    "from chempy import Reaction, Substance\n",
    "from scipy.integrate import odeint\n",
    "import numpy as np\n",
    "import matplotlib.pyplot as plt"
   ]
  },
  {
   "cell_type": "markdown",
   "metadata": {},
   "source": [
    "과산화수소 분해 반응"
   ]
  },
  {
   "cell_type": "code",
   "execution_count": 10,
   "metadata": {},
   "outputs": [],
   "source": [
    "# 과산화수소 분해 반응\n",
    "reaction_equation = '2 H2O2 -> 2 H2O + O2'\n",
    "reaction = Reaction.from_string(reaction_equation)"
   ]
  },
  {
   "cell_type": "code",
   "execution_count": 11,
   "metadata": {},
   "outputs": [],
   "source": [
    "# 초기 농도 및 시간 포인트 설정\n",
    "initial_concentrations = {'H2O2': 1.0}  # 초기 과산화수소 농도 (예: 1 M)\n",
    "time_points = np.linspace(0, 10, 100)  # 0부터 10까지 100개의 시간 포인트 생성\n"
   ]
  },
  {
   "cell_type": "code",
   "execution_count": 12,
   "metadata": {},
   "outputs": [],
   "source": [
    "# 물질 정의\n",
    "substances = [Substance.from_formula('H2O2'), Substance.from_formula('H2O'), Substance.from_formula('O2')]\n"
   ]
  },
  {
   "cell_type": "code",
   "execution_count": 13,
   "metadata": {},
   "outputs": [
    {
     "ename": "KeyError",
     "evalue": "'H2O'",
     "output_type": "error",
     "traceback": [
      "\u001b[1;31m---------------------------------------------------------------------------\u001b[0m",
      "\u001b[1;31mKeyError\u001b[0m                                  Traceback (most recent call last)",
      "Cell \u001b[1;32mIn[13], line 2\u001b[0m\n\u001b[0;32m      1\u001b[0m \u001b[38;5;66;03m# 초기 농도 설정\u001b[39;00m\n\u001b[1;32m----> 2\u001b[0m initial_conditions \u001b[38;5;241m=\u001b[39m [\u001b[43minitial_concentrations\u001b[49m\u001b[43m[\u001b[49m\u001b[43mspecies\u001b[49m\u001b[38;5;241;43m.\u001b[39;49m\u001b[43mname\u001b[49m\u001b[43m]\u001b[49m \u001b[38;5;28;01mfor\u001b[39;00m species \u001b[38;5;129;01min\u001b[39;00m substances]\n",
      "\u001b[1;31mKeyError\u001b[0m: 'H2O'"
     ]
    }
   ],
   "source": [
    "# 초기 농도 설정\n",
    "initial_conditions = [initial_concentrations[species.name] for species in substances]"
   ]
  }
 ],
 "metadata": {
  "kernelspec": {
   "display_name": "Python 3",
   "language": "python",
   "name": "python3"
  },
  "language_info": {
   "codemirror_mode": {
    "name": "ipython",
    "version": 3
   },
   "file_extension": ".py",
   "mimetype": "text/x-python",
   "name": "python",
   "nbconvert_exporter": "python",
   "pygments_lexer": "ipython3",
   "version": "3.12.1"
  }
 },
 "nbformat": 4,
 "nbformat_minor": 2
}
