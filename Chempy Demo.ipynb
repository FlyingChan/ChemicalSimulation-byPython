{
 "cells": [
  {
   "cell_type": "markdown",
   "metadata": {},
   "source": [
    "몰 질량 계산"
   ]
  },
  {
   "cell_type": "code",
   "execution_count": 3,
   "metadata": {},
   "outputs": [
    {
     "name": "stdout",
     "output_type": "stream",
     "text": [
      "Mol Mass: 18.015 g/mol\n"
     ]
    }
   ],
   "source": [
    "from chempy import Substance\n",
    "\n",
    "water = Substance.from_formula('H2O')\n",
    "print(f'Mol Mass: {water.mass} g/mol')"
   ]
  },
  {
   "cell_type": "markdown",
   "metadata": {},
   "source": [
    "화학 반응식 계수 계산"
   ]
  },
  {
   "cell_type": "code",
   "execution_count": 4,
   "metadata": {},
   "outputs": [
    {
     "name": "stdout",
     "output_type": "stream",
     "text": [
      "Reactants:  OrderedDict({'H2O2': 2})\n",
      "Products:  OrderedDict({'H2O': 2, 'O2': 1})\n"
     ]
    }
   ],
   "source": [
    "from chempy import balance_stoichiometry\n",
    "\n",
    "reac, prod = balance_stoichiometry({'H2O2'},{'H2O','O2'})\n",
    "print(\"Reactants: \", reac)\n",
    "print(\"Products: \", prod)"
   ]
  },
  {
   "cell_type": "markdown",
   "metadata": {},
   "source": [
    "양적 평형 계산"
   ]
  }
 ],
 "metadata": {
  "kernelspec": {
   "display_name": "Python 3",
   "language": "python",
   "name": "python3"
  },
  "language_info": {
   "name": "python",
   "version": "3.12.1"
  }
 },
 "nbformat": 4,
 "nbformat_minor": 2
}
